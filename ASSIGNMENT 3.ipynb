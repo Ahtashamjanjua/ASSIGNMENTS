{
 "cells": [
  {
   "cell_type": "code",
   "execution_count": 1,
   "metadata": {},
   "outputs": [
    {
     "name": "stdout",
     "output_type": "stream",
     "text": [
      "IT IS A CALCULATOR \n",
      "enter value 1      :1\n",
      "enter the operator :**\n",
      "enter value 2      :2\n",
      "THE POWER IS 1\n"
     ]
    }
   ],
   "source": [
    "#TASK 1\n",
    "print(\"IT IS A CALCULATOR \")\n",
    "a=int(input(\"enter value 1      :\"))\n",
    "op=   input(\"enter the operator :\")\n",
    "b=int(input(\"enter value 2      :\"))\n",
    "if op=='+':\n",
    "    a=a+b\n",
    "    print(\"THE ADDITION IS \",a)\n",
    "elif op=='-':\n",
    "    a=a-b\n",
    "    print(\"THE SUBSTRACTION IS\",a)\n",
    "elif op=='*':\n",
    "    a=a*b\n",
    "    print(\"THE MULTIPLICATION IS\",a)\n",
    "elif op=='/':\n",
    "    a=a/b\n",
    "    print(\"THE DIVISION IS \",a)\n",
    "elif op=='**':\n",
    "    a=a**b\n",
    "    print(\"THE POWER IS\",a)\n",
    "else :\n",
    "    print(\"invalid operator\")"
   ]
  },
  {
   "cell_type": "code",
   "execution_count": 2,
   "metadata": {},
   "outputs": [
    {
     "name": "stdout",
     "output_type": "stream",
     "text": [
      "ali  is not a numeric value\n",
      "sahyan  is not a numeric value\n",
      "ahtasham  is not a numeric value\n",
      "11  is a numeric value\n",
      "5  is a numeric value\n",
      "4  is a numeric value\n"
     ]
    }
   ],
   "source": [
    "#TASK 2\n",
    "arr=[\"ali\",\"sahyan\",\"ahtasham\",11,5,4]\n",
    "a=int()\n",
    "for i in arr:\n",
    "    if type(i) == int:\n",
    "        print(i,\" is a numeric value\")\n",
    "    else:\n",
    "        print(i,\" is not a numeric value\")"
   ]
  },
  {
   "cell_type": "code",
   "execution_count": 4,
   "metadata": {},
   "outputs": [
    {
     "name": "stdout",
     "output_type": "stream",
     "text": [
      "06\n",
      "{'NAME': 'AHTASHAM', 'FATHER NAME': 'SHAHEEN', 'CAST': 'JANJUA', 'id': '06'}\n"
     ]
    }
   ],
   "source": [
    "#TASK 3\n",
    "student={\"NAME\":\"AHTASHAM\",\n",
    "    \"FATHER NAME\":\"SHAHEEN\",\n",
    "    \"CAST\":\"JANJUA\"\n",
    "}\n",
    "student[\"id\"]=input()      #xxxxx-xxxxxxx-x\n",
    "print(student)"
   ]
  },
  {
   "cell_type": "code",
   "execution_count": 78,
   "metadata": {},
   "outputs": [
    {
     "name": "stdout",
     "output_type": "stream",
     "text": [
      "THE SUM IS  21\n"
     ]
    }
   ],
   "source": [
    "#TASK 4\n",
    "num={\n",
    "    \"a\":5,\n",
    "    \"b\":7,\n",
    "    \"c\":9   \n",
    "}\n",
    "sum=0\n",
    "for output in num.values():\n",
    "    sum+=output\n",
    "print(\"THE SUM IS \",sum)"
   ]
  },
  {
   "cell_type": "code",
   "execution_count": null,
   "metadata": {},
   "outputs": [],
   "source": [
    "#TASK 5\n",
    "arr=[\"ahtasham\",\"ahtasham\",17]\n",
    "for i in range(3):\n",
    "    if arr[i] == arr[i+1]:\n",
    "        print(\"it is duplicate\")\n",
    "    else:\n",
    "        print(\"not duplicate\")"
   ]
  },
  {
   "cell_type": "code",
   "execution_count": 132,
   "metadata": {},
   "outputs": [
    {
     "name": "stdout",
     "output_type": "stream",
     "text": [
      "THIS KEY IS NOT EXIST\n"
     ]
    }
   ],
   "source": [
    "#TASK 6\n",
    "dictionary={\n",
    "   \"NAME\":\"ALI\",\n",
    "   \"FATHER NAME\":\"USMAN\",\n",
    "   \"ADDRESS\":\"LAHORE\"\n",
    "}\n",
    "dictionary[\"NAME\"]\n",
    "\n",
    "if dictionary[\"NAME\"] == dictionary: \n",
    "    print(\"THIS KEY IS ALREADY EXIST\")\n",
    "else:\n",
    "    print(\"THIS KEY IS NOT EXIST\")\n"
   ]
  }
 ],
 "metadata": {
  "kernelspec": {
   "display_name": "Python 3",
   "language": "python",
   "name": "python3"
  },
  "language_info": {
   "codemirror_mode": {
    "name": "ipython",
    "version": 3
   },
   "file_extension": ".py",
   "mimetype": "text/x-python",
   "name": "python",
   "nbconvert_exporter": "python",
   "pygments_lexer": "ipython3",
   "version": "3.7.4"
  }
 },
 "nbformat": 4,
 "nbformat_minor": 2
}
